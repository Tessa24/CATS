{
 "cells": [
  {
   "cell_type": "code",
   "execution_count": 1,
   "metadata": {
    "collapsed": true
   },
   "outputs": [],
   "source": [
    "# Import libraries\n",
    "from sklearn.model_selection import train_test_split\n",
    "import pandas as pd\n",
    "import numpy as np\n",
    "import matplotlib.pyplot as plt\n",
    "%matplotlib inline "
   ]
  },
  {
   "cell_type": "markdown",
   "metadata": {},
   "source": [
    "# Load Data"
   ]
  },
  {
   "cell_type": "code",
   "execution_count": 2,
   "metadata": {},
   "outputs": [],
   "source": [
    "label_data = pd.read_csv('Train_clinical.txt')\n",
    "feature_data = pd.read_csv('Train_call.txt')"
   ]
  },
  {
   "cell_type": "markdown",
   "metadata": {},
   "source": [
    "# Make sure data is correctly formatted"
   ]
  },
  {
   "cell_type": "code",
   "execution_count": 3,
   "metadata": {},
   "outputs": [],
   "source": [
    "#new featured column names\n",
    "f_column = 'Chromosome\\t\"Start\"\\t\"End\"\\t\"Nclone\"\\t\"Array.129\"\\t\"Array.34\"\\t\"Array.67\"\\t\"Array.24\"\\t\"Array.22\"\\t\"Array.36\"\\t\"Array.49\"\\t\"Array.16\"\\t\"Array.146\"\\t\"Array.143\"\\t\"Array.65\"\\t\"Array.62\"\\t\"Array.4\"\\t\"Array.76\"\\t\"Array.118\"\\t\"Array.154\"\\t\"Array.48\"\\t\"Array.6\"\\t\"Array.39\"\\t\"Array.86\"\\t\"Array.112\"\\t\"Array.79\"\\t\"Array.124\"\\t\"Array.19\"\\t\"Array.27\"\\t\"Array.106\"\\t\"Array.110\"\\t\"Array.69\"\\t\"Array.73\"\\t\"Array.95\"\\t\"Array.98\"\\t\"Array.17\"\\t\"Array.33\"\\t\"Array.138\"\\t\"Array.149\"\\t\"Array.101\"\\t\"Array.90\"\\t\"Array.99\"\\t\"Array.57\"\\t\"Array.105\"\\t\"Array.85\"\\t\"Array.114\"\\t\"Array.56\"\\t\"Array.5\"\\t\"Array.8\"\\t\"Array.113\"\\t\"Array.148\"\\t\"Array.42\"\\t\"Array.25\"\\t\"Array.102\"\\t\"Array.55\"\\t\"Array.141\"\\t\"Array.43\"\\t\"Array.159\"\\t\"Array.52\"\\t\"Array.88\"\\t\"Array.125\"\\t\"Array.152\"\\t\"Array.50\"\\t\"Array.23\"\\t\"Array.68\"\\t\"Array.94\"\\t\"Array.153\"\\t\"Array.51\"\\t\"Array.142\"\\t\"Array.144\"\\t\"Array.37\"\\t\"Array.78\"\\t\"Array.18\"\\t\"Array.82\"\\t\"Array.75\"\\t\"Array.139\"\\t\"Array.2\"\\t\"Array.117\"\\t\"Array.60\"\\t\"Array.38\"\\t\"Array.72\"\\t\"Array.104\"\\t\"Array.137\"\\t\"Array.145\"\\t\"Array.31\"\\t\"Array.135\"\\t\"Array.111\"\\t\"Array.7\"\\t\"Array.21\"\\t\"Array.53\"\\t\"Array.59\"\\t\"Array.71\"\\t\"Array.47\"\\t\"Array.107\"\\t\"Array.64\"\\t\"Array.89\"\\t\"Array.30\"\\t\"Array.35\"\\t\"Array.93\"\\t\"Array.10\"\\t\"Array.123\"\\t\"Array.100\"\\t\"Array.134\"\\t\"Array.130\"'\n",
    "\n",
    "# make list of names for columns when renaming 100 sample columns\n",
    "f_new_column = f_column.replace('\"', '')\n",
    "f_new_column = f_new_column.split('\\t')\n",
    "\n",
    "\n",
    "# rename the one column feature and label data otherwise splitting command will not work due to quotationmarks \n",
    "label_data=label_data.rename(columns ={'Sample\\t\"Subgroup\"':'samples'})\n",
    "feature_data=feature_data.rename(columns ={f_column:'samples'})\n",
    "\n",
    "#split feature data into columns\n",
    "feature_data = pd.DataFrame(feature_data.samples.str.split('\\t').tolist(),\n",
    "                                   columns = f_new_column)\n",
    "\n",
    "#split label data into columns\n",
    "label_data = pd.DataFrame(label_data.samples.str.split('\\t',1).tolist(),\n",
    "                                   columns = ['Samples','Subgroups'])\n",
    "# for labels take out array\n",
    "y_data = label_data.drop(['Samples'],axis = 1)\n",
    "# Use array as row label\n",
    "sample_nr = 0\n",
    "for i in label_data.Samples:\n",
    "    y_data = y_data.rename(index = {sample_nr : i})\n",
    "    sample_nr +=1\n",
    "\n",
    "#for feature take out Chromosome, Start,End and Nclone\n",
    "x_data = feature_data.drop(['Chromosome', 'Start' , 'End', 'Nclone'], axis=1)\n",
    "\n",
    "#Put features in columns and samples in rows\n",
    "x_data = pd.DataFrame(x_data.transpose())\n"
   ]
  },
  {
   "cell_type": "code",
   "execution_count": 4,
   "metadata": {},
   "outputs": [],
   "source": [
    "X_train, X_test, y_train, y_test = train_test_split(x_data, y_data, test_size=0.20, stratify = y_data)"
   ]
  },
  {
   "cell_type": "code",
   "execution_count": 6,
   "metadata": {},
   "outputs": [],
   "source": [
    "X_train.to_csv('train_features.csv')\n",
    "y_train.to_csv('train_labels.csv')\n",
    "X_test.to_csv('test_features.csv')\n",
    "y_test.to_csv('test_labels.csv')"
   ]
  }
 ],
 "metadata": {
  "kernelspec": {
   "display_name": "Python 3",
   "language": "python",
   "name": "python3"
  },
  "language_info": {
   "codemirror_mode": {
    "name": "ipython",
    "version": 3
   },
   "file_extension": ".py",
   "mimetype": "text/x-python",
   "name": "python",
   "nbconvert_exporter": "python",
   "pygments_lexer": "ipython3",
   "version": "3.6.3"
  }
 },
 "nbformat": 4,
 "nbformat_minor": 2
}
