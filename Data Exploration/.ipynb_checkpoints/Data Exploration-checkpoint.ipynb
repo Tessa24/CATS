{
 "cells": [
  {
   "cell_type": "markdown",
   "metadata": {},
   "source": [
    "# Data Exploration"
   ]
  },
  {
   "cell_type": "markdown",
   "metadata": {},
   "source": [
    "### Import libraries"
   ]
  },
  {
   "cell_type": "code",
   "execution_count": 33,
   "metadata": {},
   "outputs": [],
   "source": [
    "# Import libraries\n",
    "import pandas as pd\n",
    "import numpy as np\n",
    "import matplotlib.pyplot as plt\n",
    "%matplotlib inline "
   ]
  },
  {
   "cell_type": "markdown",
   "metadata": {},
   "source": [
    "### Load data"
   ]
  },
  {
   "cell_type": "code",
   "execution_count": 21,
   "metadata": {
    "collapsed": true,
    "scrolled": true
   },
   "outputs": [],
   "source": [
    "label_data = pd.read_csv('Train_clinical.txt')\n",
    "feature_data = pd.read_csv('Train_call.txt')"
   ]
  },
  {
   "cell_type": "markdown",
   "metadata": {},
   "source": [
    "### Format Loaded File"
   ]
  },
  {
   "cell_type": "markdown",
   "metadata": {},
   "source": [
    "Columns in file are not correctly seperated in pandas. It puts the different columns in the .txt file seperated by a tab into one column in pandas. To fix this use the code below. "
   ]
  },
  {
   "cell_type": "code",
   "execution_count": 22,
   "metadata": {},
   "outputs": [],
   "source": [
    "#new featured column names\n",
    "f_column = 'Chromosome\\t\"Start\"\\t\"End\"\\t\"Nclone\"\\t\"Array.129\"\\t\"Array.34\"\\t\"Array.67\"\\t\"Array.24\"\\t\"Array.22\"\\t\"Array.36\"\\t\"Array.49\"\\t\"Array.16\"\\t\"Array.146\"\\t\"Array.143\"\\t\"Array.65\"\\t\"Array.62\"\\t\"Array.4\"\\t\"Array.76\"\\t\"Array.118\"\\t\"Array.154\"\\t\"Array.48\"\\t\"Array.6\"\\t\"Array.39\"\\t\"Array.86\"\\t\"Array.112\"\\t\"Array.79\"\\t\"Array.124\"\\t\"Array.19\"\\t\"Array.27\"\\t\"Array.106\"\\t\"Array.110\"\\t\"Array.69\"\\t\"Array.73\"\\t\"Array.95\"\\t\"Array.98\"\\t\"Array.17\"\\t\"Array.33\"\\t\"Array.138\"\\t\"Array.149\"\\t\"Array.101\"\\t\"Array.90\"\\t\"Array.99\"\\t\"Array.57\"\\t\"Array.105\"\\t\"Array.85\"\\t\"Array.114\"\\t\"Array.56\"\\t\"Array.5\"\\t\"Array.8\"\\t\"Array.113\"\\t\"Array.148\"\\t\"Array.42\"\\t\"Array.25\"\\t\"Array.102\"\\t\"Array.55\"\\t\"Array.141\"\\t\"Array.43\"\\t\"Array.159\"\\t\"Array.52\"\\t\"Array.88\"\\t\"Array.125\"\\t\"Array.152\"\\t\"Array.50\"\\t\"Array.23\"\\t\"Array.68\"\\t\"Array.94\"\\t\"Array.153\"\\t\"Array.51\"\\t\"Array.142\"\\t\"Array.144\"\\t\"Array.37\"\\t\"Array.78\"\\t\"Array.18\"\\t\"Array.82\"\\t\"Array.75\"\\t\"Array.139\"\\t\"Array.2\"\\t\"Array.117\"\\t\"Array.60\"\\t\"Array.38\"\\t\"Array.72\"\\t\"Array.104\"\\t\"Array.137\"\\t\"Array.145\"\\t\"Array.31\"\\t\"Array.135\"\\t\"Array.111\"\\t\"Array.7\"\\t\"Array.21\"\\t\"Array.53\"\\t\"Array.59\"\\t\"Array.71\"\\t\"Array.47\"\\t\"Array.107\"\\t\"Array.64\"\\t\"Array.89\"\\t\"Array.30\"\\t\"Array.35\"\\t\"Array.93\"\\t\"Array.10\"\\t\"Array.123\"\\t\"Array.100\"\\t\"Array.134\"\\t\"Array.130\"'\n",
    "\n",
    "# make list of names for columns when renaming 100 sample columns\n",
    "f_new_column = f_column.replace('\"', '')\n",
    "f_new_column = f_new_column.split('\\t')\n",
    "\n",
    "\n",
    "# rename the one column feature and label data otherwise splitting command will not work due to quotationmarks \n",
    "label_data=label_data.rename(columns ={'Sample\\t\"Subgroup\"':'samples'})\n",
    "feature_data=feature_data.rename(columns ={f_column:'samples'})\n",
    "\n",
    "#split feature data into columns\n",
    "feature_data = pd.DataFrame(feature_data.samples.str.split('\\t').tolist(),\n",
    "                                   columns = f_new_column)\n",
    "\n",
    "#split label data into columns\n",
    "label_data = pd.DataFrame(label_data.samples.str.split('\\t',1).tolist(),\n",
    "                                   columns = ['Samples','Subgroups'])"
   ]
  },
  {
   "cell_type": "code",
   "execution_count": 23,
   "metadata": {},
   "outputs": [
    {
     "name": "stdout",
     "output_type": "stream",
     "text": [
      "      Samples     Subgroups\n",
      "0   Array.129       \"HER2+\"\n",
      "1    Array.34         \"HR+\"\n",
      "2    Array.67         \"HR+\"\n",
      "3    Array.24  \"Triple Neg\"\n",
      "4    Array.22  \"Triple Neg\"\n",
      "5    Array.36         \"HR+\"\n",
      "6    Array.49       \"HER2+\"\n",
      "7    Array.16       \"HER2+\"\n",
      "8   Array.146  \"Triple Neg\"\n",
      "9   Array.143       \"HER2+\"\n",
      "10   Array.65         \"HR+\"\n",
      "11   Array.62  \"Triple Neg\"\n",
      "12    Array.4       \"HER2+\"\n",
      "13   Array.76       \"HER2+\"\n",
      "14  Array.118  \"Triple Neg\"\n",
      "15  Array.154  \"Triple Neg\"\n",
      "16   Array.48         \"HR+\"\n",
      "17    Array.6       \"HER2+\"\n",
      "18   Array.39         \"HR+\"\n",
      "19   Array.86         \"HR+\"\n",
      "20  Array.112  \"Triple Neg\"\n",
      "21   Array.79       \"HER2+\"\n",
      "22  Array.124         \"HR+\"\n",
      "23   Array.19       \"HER2+\"\n",
      "24   Array.27         \"HR+\"\n",
      "25  Array.106       \"HER2+\"\n",
      "26  Array.110       \"HER2+\"\n",
      "27   Array.69  \"Triple Neg\"\n",
      "28   Array.73       \"HER2+\"\n",
      "29   Array.95         \"HR+\"\n",
      "..        ...           ...\n",
      "70   Array.75       \"HER2+\"\n",
      "71  Array.139       \"HER2+\"\n",
      "72    Array.2         \"HR+\"\n",
      "73  Array.117         \"HR+\"\n",
      "74   Array.60         \"HR+\"\n",
      "75   Array.38  \"Triple Neg\"\n",
      "76   Array.72       \"HER2+\"\n",
      "77  Array.104  \"Triple Neg\"\n",
      "78  Array.137         \"HR+\"\n",
      "79  Array.145  \"Triple Neg\"\n",
      "80   Array.31  \"Triple Neg\"\n",
      "81  Array.135  \"Triple Neg\"\n",
      "82  Array.111  \"Triple Neg\"\n",
      "83    Array.7         \"HR+\"\n",
      "84   Array.21       \"HER2+\"\n",
      "85   Array.53       \"HER2+\"\n",
      "86   Array.59         \"HR+\"\n",
      "87   Array.71  \"Triple Neg\"\n",
      "88   Array.47  \"Triple Neg\"\n",
      "89  Array.107  \"Triple Neg\"\n",
      "90   Array.64  \"Triple Neg\"\n",
      "91   Array.89         \"HR+\"\n",
      "92   Array.30  \"Triple Neg\"\n",
      "93   Array.35         \"HR+\"\n",
      "94   Array.93  \"Triple Neg\"\n",
      "95   Array.10       \"HER2+\"\n",
      "96  Array.123         \"HR+\"\n",
      "97  Array.100         \"HR+\"\n",
      "98  Array.134         \"HR+\"\n",
      "99  Array.130       \"HER2+\"\n",
      "\n",
      "[100 rows x 2 columns]\n",
      "     Chromosome      Start        End Nclone Array.129 Array.34 Array.67  \\\n",
      "0             1       2927      43870      3         0        0        0   \n",
      "1             1      85022     216735      4         0        0        0   \n",
      "2             1     370546     372295      4         0        0        0   \n",
      "3             1     471671     786483      5         0        0        0   \n",
      "4             1     792533     907406     13         0        0        0   \n",
      "5             1     912799    1266212     96         0        0        0   \n",
      "6             1    1271190    1590570     45         0        0        0   \n",
      "7             1    1676445    1703748      4         0        0        0   \n",
      "8             1    1738295    2477597    104         0        0        0   \n",
      "9             1    2481927    2562342     14         0        0        0   \n",
      "10            1    2574555    2580342      2         0        0        0   \n",
      "11            1    2611444    2641811     12         0        0        0   \n",
      "12            1    2643540    2645074      2         0        0        0   \n",
      "13            1    2664285    2665530      2         0        0        0   \n",
      "14            1    2672694    2832087     14         0        0        0   \n",
      "15            1    2854198    2856899      2         0        0        0   \n",
      "16            1    2870100    2880675      6         0        0        0   \n",
      "17            1    2882919    2901629      9         0        0        0   \n",
      "18            1    2903052    3112977     27         0        0        0   \n",
      "19            1    3125822    3135062      2         2        0        0   \n",
      "20            1    3136815    3137481      2         2        0        0   \n",
      "21            1    3149648    3157982      2         0        0        0   \n",
      "22            1    3166706    3521038     47         0        0        0   \n",
      "23            1    3521345    3798798     42         0        0        0   \n",
      "24            1    3810936    6606212    213         0        0        0   \n",
      "25            1    6613363    8038878    160         0        0        0   \n",
      "26            1    8050444   10537398    265         0        0        0   \n",
      "27            1   10551320   12533269    211         0        0        0   \n",
      "28            1   12544104   12768740     27         0        0        0   \n",
      "29            1   12774453   12788158      2         0        0        0   \n",
      "...         ...        ...        ...    ...       ...      ...      ...   \n",
      "2804         23   89922998   90087775      4         1        1        1   \n",
      "2805         23   90107813   90588017     22         1        1        1   \n",
      "2806         23   90626987   90763396      2         1        1        1   \n",
      "2807         23   90837054   90936838      7         0        0        1   \n",
      "2808         23   90947440   91203848     10         1        0        1   \n",
      "2809         23   91234699   91344716     11         2        1        1   \n",
      "2810         23   91365063   91372700      2         1        0        1   \n",
      "2811         23   91404795   91459679      4         1        0        1   \n",
      "2812         23   91489731   91607636      8         0        0        1   \n",
      "2813         23   91632143   92103804     10         1        0        1   \n",
      "2814         23   92209094   95651579    131         2        1        1   \n",
      "2815         23   95696214  108087627   1072         2        1        1   \n",
      "2816         23  108169857  122414714   1038         2        1        1   \n",
      "2817         23  122417938  131366673    616         2        1        1   \n",
      "2818         23  131385521  132949963    152         2        1        1   \n",
      "2819         23  132998038  140285388    591         2        1        1   \n",
      "2820         23  140416671  144045173    174         2        1        1   \n",
      "2821         23  144052935  145145074     54         2        1        1   \n",
      "2822         23  145164724  149589730    314         2        1        1   \n",
      "2823         23  149594807  151064869    164         2        1        1   \n",
      "2824         23  151067607  152416606    159         2        1        1   \n",
      "2825         23  152422390  152548587     20         2        1        1   \n",
      "2826         23  152552851  152570071      6         2        1        1   \n",
      "2827         23  152576854  152935130     64         2        1        1   \n",
      "2828         23  152994680  153054487      5         0        1        1   \n",
      "2829         23  153062077  153452633     57         1        1        1   \n",
      "2830         23  153466463  153491568      4         1        1        1   \n",
      "2831         23  153504394  153933426     55         1        1        1   \n",
      "2832         23  153938998  153989329      5         1        1        1   \n",
      "2833         23  153997146  154492924     43         1        1        1   \n",
      "\n",
      "     Array.24 Array.22 Array.36    ...    Array.64 Array.89 Array.30 Array.35  \\\n",
      "0           0        0        0    ...           0        0        1        0   \n",
      "1           0        0        0    ...           0        0        1        0   \n",
      "2           0        0        0    ...           0        0        1        0   \n",
      "3           0        0        0    ...           0        1        1        0   \n",
      "4           0        0        0    ...           0        1        1        0   \n",
      "5           0        0        0    ...           0        0        1        0   \n",
      "6           0        0        0    ...           0        0        1        0   \n",
      "7          -1        0        0    ...           0        0        1        0   \n",
      "8           0        0        0    ...           0        0        1        0   \n",
      "9           0        0        0    ...           0        0        1        0   \n",
      "10          0        0        0    ...           0        0        1        0   \n",
      "11          0        1        0    ...           1        1        1        0   \n",
      "12          0        1        0    ...           1        1        1        0   \n",
      "13          0        0        0    ...           1        0        1        0   \n",
      "14          0        0        0    ...           0        0        1        0   \n",
      "15          0        0        0    ...           0        0        1        0   \n",
      "16          0        1        0    ...           1        1        1        0   \n",
      "17          0        1        0    ...           1        1        1        0   \n",
      "18          0        0        0    ...           0        0        1        0   \n",
      "19          0        0        0    ...           0        0        1        0   \n",
      "20          0        0        0    ...           0        0        1        0   \n",
      "21          0        0        0    ...           0        0        1        0   \n",
      "22          0        0        0    ...           0        0        1        0   \n",
      "23          0        0        0    ...           0        0        1        0   \n",
      "24          0        0        0    ...           0        0        1        0   \n",
      "25          0        0        0    ...           0        0        1        0   \n",
      "26          0        0        0    ...           0        0        1        0   \n",
      "27          0        0        0    ...           0        0        0        0   \n",
      "28          0        0        0    ...           0        0        0        0   \n",
      "29         -1        0        0    ...           0        0        0        0   \n",
      "...       ...      ...      ...    ...         ...      ...      ...      ...   \n",
      "2804        1        1        1    ...           1        1        1        1   \n",
      "2805        1        1        1    ...           1        1        1        1   \n",
      "2806        1        1        1    ...           1        1        1        1   \n",
      "2807        1        1        1    ...           1        1        1        1   \n",
      "2808        1        1        1    ...           1        1        1        1   \n",
      "2809        1        1        1    ...           1        2        1        1   \n",
      "2810        1        1        1    ...           1        1        1        1   \n",
      "2811        0        1        1    ...           0        1        1        1   \n",
      "2812        0        1        1    ...           0        1        1        0   \n",
      "2813        1        1        1    ...           0        1        1        1   \n",
      "2814        1        1        1    ...           1        1        1        1   \n",
      "2815        1        1        1    ...           1        1        1        1   \n",
      "2816        2        1        1    ...           1        1        1        1   \n",
      "2817        2        1        1    ...           1        1        1        1   \n",
      "2818        2        1        1    ...           1        1        1        1   \n",
      "2819        0        1        1    ...           1        1        1        1   \n",
      "2820        0        1        1    ...           1        1        1        1   \n",
      "2821        0        1        1    ...           1        1        1        1   \n",
      "2822        0        1        1    ...           1        1        1        1   \n",
      "2823        0        1        1    ...           1        1        1        1   \n",
      "2824        0        1        1    ...           1        1        1        1   \n",
      "2825        0        1        1    ...           1        1        1        1   \n",
      "2826        0        1        0    ...           1        1        1        1   \n",
      "2827        0        1        1    ...           1        1        1        1   \n",
      "2828        0        1        1    ...           1        1        1        1   \n",
      "2829        0        1        1    ...           1        1        1        1   \n",
      "2830        0        1        1    ...           2        1        1        1   \n",
      "2831        0        1        1    ...           2        1        1        1   \n",
      "2832        0        1        1    ...           2        1        1        1   \n",
      "2833        0        1        1    ...           2        1        1        1   \n",
      "\n",
      "     Array.93 Array.10 Array.123 Array.100 Array.134 Array.130  \n",
      "0           0        0         0         0        -1         0  \n",
      "1           0        0         0         0        -1         0  \n",
      "2           1        0         0         0        -1         0  \n",
      "3           1        0         0         0        -1         0  \n",
      "4           1        0         0         0        -1         0  \n",
      "5           1        0         0         0        -1         0  \n",
      "6           1        0         0         0        -1         0  \n",
      "7           1        0         0         0        -1         0  \n",
      "8           0        0         0         0        -1         0  \n",
      "9           0        0         0         0        -1         0  \n",
      "10          0        0         0         0        -1         0  \n",
      "11          1        2         1         0         1         0  \n",
      "12          1        0         1         0         1         0  \n",
      "13          0        0         0         0        -1         0  \n",
      "14          0        0         0         0        -1         0  \n",
      "15          0        0         0         0        -1         0  \n",
      "16          1        1         0         0         1         1  \n",
      "17          1        1         1         0         1         1  \n",
      "18          0        0         0         0        -1         0  \n",
      "19          0        0         2         0        -1         0  \n",
      "20          0        0         2         0        -1         0  \n",
      "21          0        0         0         0        -1         0  \n",
      "22          0        0         0         0        -1         0  \n",
      "23          0        0         0         0        -1         1  \n",
      "24          0        0         0         0        -1         0  \n",
      "25          0        0         0         0        -1         0  \n",
      "26          0        0         0         0        -1         0  \n",
      "27          0        0         0         0        -1         0  \n",
      "28          0        0         0         0        -1         0  \n",
      "29          0        0         0         0        -1         0  \n",
      "...       ...      ...       ...       ...       ...       ...  \n",
      "2804        2        1         0         1         1         1  \n",
      "2805        2        1         0         1         1         1  \n",
      "2806        2        1         0         1         1         1  \n",
      "2807        2        1         0         1         1         1  \n",
      "2808        2        1         0         1         1         1  \n",
      "2809        2        1         0         1         1         1  \n",
      "2810        1        1         0         1         1         1  \n",
      "2811        1        1         0         1         1         1  \n",
      "2812        1        1         0         1         1         1  \n",
      "2813        1        1         0         1         1         1  \n",
      "2814        0        1         1         1         1         1  \n",
      "2815        1        1         1         1         1         1  \n",
      "2816        1        1         1         1         1         1  \n",
      "2817        1        1         1         1         1         1  \n",
      "2818        1        1         1         1         1         1  \n",
      "2819        1        1         1         1         1         1  \n",
      "2820        1        1         1         1         1         1  \n",
      "2821        1        1         1         1         1         1  \n",
      "2822        1        1         1         1         1         1  \n",
      "2823        1        1         1         1         1         1  \n",
      "2824        1        1         1         1         1         1  \n",
      "2825        1        1         1         1         1         1  \n",
      "2826        1        0         1         1         1         1  \n",
      "2827        1        1         1         1         1         1  \n",
      "2828        1        1         1         1         1         1  \n",
      "2829        1        1         1         1         1         1  \n",
      "2830        1        1         1         1         1         1  \n",
      "2831        1        1         1         1         1         1  \n",
      "2832        1        1         1         1         1         1  \n",
      "2833        1        1         1         1         1         1  \n",
      "\n",
      "[2834 rows x 104 columns]\n"
     ]
    }
   ],
   "source": [
    "print(label_data)\n",
    "print(feature_data)"
   ]
  },
  {
   "cell_type": "markdown",
   "metadata": {},
   "source": [
    "### Take out columns not useful for training"
   ]
  },
  {
   "cell_type": "markdown",
   "metadata": {},
   "source": [
    "The dataset with labels now contains a column with array numbers, which is not useful for classification. We are only interested in the cancer classes: 'HER2+', 'HR+' and 'Triple Neg'. We can however use these array numbers as row names.\n",
    "The loaded data set with the features contain 4 extra columns added to the 100 samples, namely: Chromosome, Start,End and Nclone. This might be interesting to look at later but is not interesting when training the data because these are not part of the 100 samples."
   ]
  },
  {
   "cell_type": "code",
   "execution_count": 24,
   "metadata": {},
   "outputs": [],
   "source": [
    "# for labels take out array\n",
    "y_train = label_data.drop(['Samples'],axis = 1)\n",
    "# Use array as row label\n",
    "sample_nr = 0\n",
    "for i in label_data.Samples:\n",
    "    y_train = y_train.rename(index = {sample_nr : i})\n",
    "    sample_nr +=1\n",
    "\n",
    "#for feature take out Chromosome, Start,End and Nclone\n",
    "x_train = feature_data.drop(['Chromosome', 'Start' , 'End', 'Nclone'], axis=1)\n",
    "\n",
    "#Put features in columns and samples in rows\n",
    "x_train = pd.DataFrame(x_train.transpose())\n",
    "x_train = x_train"
   ]
  },
  {
   "cell_type": "markdown",
   "metadata": {},
   "source": [
    "### Look at shape to make sure columns and rows came out correct"
   ]
  },
  {
   "cell_type": "code",
   "execution_count": 25,
   "metadata": {},
   "outputs": [
    {
     "name": "stdout",
     "output_type": "stream",
     "text": [
      "              Subgroups\n",
      "Array.129       \"HER2+\"\n",
      "Array.34          \"HR+\"\n",
      "Array.67          \"HR+\"\n",
      "Array.24   \"Triple Neg\"\n",
      "Array.22   \"Triple Neg\"\n",
      "Array.36          \"HR+\"\n",
      "Array.49        \"HER2+\"\n",
      "Array.16        \"HER2+\"\n",
      "Array.146  \"Triple Neg\"\n",
      "Array.143       \"HER2+\"\n",
      "Array.65          \"HR+\"\n",
      "Array.62   \"Triple Neg\"\n",
      "Array.4         \"HER2+\"\n",
      "Array.76        \"HER2+\"\n",
      "Array.118  \"Triple Neg\"\n",
      "Array.154  \"Triple Neg\"\n",
      "Array.48          \"HR+\"\n",
      "Array.6         \"HER2+\"\n",
      "Array.39          \"HR+\"\n",
      "Array.86          \"HR+\"\n",
      "Array.112  \"Triple Neg\"\n",
      "Array.79        \"HER2+\"\n",
      "Array.124         \"HR+\"\n",
      "Array.19        \"HER2+\"\n",
      "Array.27          \"HR+\"\n",
      "Array.106       \"HER2+\"\n",
      "Array.110       \"HER2+\"\n",
      "Array.69   \"Triple Neg\"\n",
      "Array.73        \"HER2+\"\n",
      "Array.95          \"HR+\"\n",
      "...                 ...\n",
      "Array.75        \"HER2+\"\n",
      "Array.139       \"HER2+\"\n",
      "Array.2           \"HR+\"\n",
      "Array.117         \"HR+\"\n",
      "Array.60          \"HR+\"\n",
      "Array.38   \"Triple Neg\"\n",
      "Array.72        \"HER2+\"\n",
      "Array.104  \"Triple Neg\"\n",
      "Array.137         \"HR+\"\n",
      "Array.145  \"Triple Neg\"\n",
      "Array.31   \"Triple Neg\"\n",
      "Array.135  \"Triple Neg\"\n",
      "Array.111  \"Triple Neg\"\n",
      "Array.7           \"HR+\"\n",
      "Array.21        \"HER2+\"\n",
      "Array.53        \"HER2+\"\n",
      "Array.59          \"HR+\"\n",
      "Array.71   \"Triple Neg\"\n",
      "Array.47   \"Triple Neg\"\n",
      "Array.107  \"Triple Neg\"\n",
      "Array.64   \"Triple Neg\"\n",
      "Array.89          \"HR+\"\n",
      "Array.30   \"Triple Neg\"\n",
      "Array.35          \"HR+\"\n",
      "Array.93   \"Triple Neg\"\n",
      "Array.10        \"HER2+\"\n",
      "Array.123         \"HR+\"\n",
      "Array.100         \"HR+\"\n",
      "Array.134         \"HR+\"\n",
      "Array.130       \"HER2+\"\n",
      "\n",
      "[100 rows x 1 columns]\n",
      "          0    1    2    3    4    5    6    7    8    9    ...  2824 2825  \\\n",
      "Array.129    0    0    0    0    0    0    0    0    0    0 ...     2    2   \n",
      "Array.34     0    0    0    0    0    0    0    0    0    0 ...     1    1   \n",
      "Array.67     0    0    0    0    0    0    0    0    0    0 ...     1    1   \n",
      "Array.24     0    0    0    0    0    0    0   -1    0    0 ...     0    0   \n",
      "Array.22     0    0    0    0    0    0    0    0    0    0 ...     1    1   \n",
      "Array.36     0    0    0    0    0    0    0    0    0    0 ...     1    1   \n",
      "Array.49     0    0    0    0    0    0    0    0    0    0 ...     2    1   \n",
      "Array.16     0    0    0    0   -1    0    0    0    0    0 ...     1    1   \n",
      "Array.146    0    0    0    0    0    0    0    0    0    0 ...     1    1   \n",
      "Array.143    0    0    0    0    0    0    0    0    0    0 ...     1    1   \n",
      "Array.65     0    0    0    0    0    0    0    0    0    0 ...     1    1   \n",
      "Array.62     1    1    1    1    1    1    1    1    1    1 ...     1    1   \n",
      "Array.4     -1   -1   -1   -1   -1   -1   -1   -1   -1   -1 ...     1    1   \n",
      "Array.76     0    0    0    0    0    0    0    0    0    0 ...     1    1   \n",
      "Array.118    0    0    0    0    0    0    0    0    0    0 ...     1    1   \n",
      "Array.154    1    1    0    0    0    0    0    0   -1   -1 ...     0    0   \n",
      "Array.48     1    0    0    0    0    0    1    0    0    0 ...     1    1   \n",
      "Array.6      0    0    0    0    0    0    0    0    0    0 ...     1    1   \n",
      "Array.39    -1   -1   -1   -1   -1   -1   -1   -1   -1   -1 ...     1    1   \n",
      "Array.86     0    0    0    0    0    0    0    0    0    0 ...     1    1   \n",
      "Array.112    0    0    0    0    0    0    0    0    0    0 ...     2    2   \n",
      "Array.79     0    0    0    0    0    0    0    0    0    0 ...     1    1   \n",
      "Array.124    0    0    0    0    0    0    0    0    2    0 ...     2    1   \n",
      "Array.19     0    0    0    0    0    0    0    0    0    0 ...     1    1   \n",
      "Array.27     0    0    0    0    0    0    0    0    0    0 ...     1    1   \n",
      "Array.106    0    0    0    0    0    0    0    0   -1   -1 ...     2    2   \n",
      "Array.110    0    0    0    0    0    0    0    0    0    0 ...     2    2   \n",
      "Array.69     1    0    0    0    0    0    0    1    0    0 ...     1    1   \n",
      "Array.73     0    0    0    0    0    0    0    0    0    0 ...     1    1   \n",
      "Array.95     1    0    0    0    0    0    0    0    0    0 ...     1    1   \n",
      "...        ...  ...  ...  ...  ...  ...  ...  ...  ...  ... ...   ...  ...   \n",
      "Array.75     0    0    0    0    0    0    0    0    0    0 ...     1    1   \n",
      "Array.139    0    0    0    0    0    0    0    0    0    0 ...     1    1   \n",
      "Array.2      1    1    0    0    0    0    0    0    0    0 ...     1    1   \n",
      "Array.117    0    0    0    0    0    0    0    0    0    0 ...     1    1   \n",
      "Array.60     0    0    0    0    0    0    0   -1    0    0 ...     1    1   \n",
      "Array.38     0    0    0    0    0    0    0    0    0    0 ...     1    1   \n",
      "Array.72     1    0    0    0    0    0    0    0    0    0 ...     1    1   \n",
      "Array.104    0    0    0    0    0    0    0    0    0    0 ...     1    1   \n",
      "Array.137    0    0    0    0    0    0    0    0    0    0 ...     1    1   \n",
      "Array.145   -1   -1   -1   -1   -1   -1   -1   -1   -1   -1 ...     1    1   \n",
      "Array.31     1    1    1    1    1    1    1    1    1    1 ...     2    2   \n",
      "Array.135    0    0    0    0    0    0    0    0    0    0 ...     2    2   \n",
      "Array.111    1    1    1    1    1    1    1    0    1    1 ...     1    1   \n",
      "Array.7      0    0    0    0    0    0    0    0    0    0 ...     1    1   \n",
      "Array.21     0    0    0    0    0    0    0   -1    0    0 ...     2    2   \n",
      "Array.53     0    0    0    0    0    0    0    0    0    0 ...     2    2   \n",
      "Array.59    -1   -1   -1   -1   -1   -1   -1   -1   -1   -1 ...     0    0   \n",
      "Array.71     0    0    1    1    1    1    1    0    1    1 ...     1    1   \n",
      "Array.47     0    0    0    0    0    0    0    0   -1    0 ...     2    2   \n",
      "Array.107    0    0    0    0    0    0    0    0    0    0 ...     1    1   \n",
      "Array.64     0    0    0    0    0    0    0    0    0    0 ...     1    1   \n",
      "Array.89     0    0    0    1    1    0    0    0    0    0 ...     1    1   \n",
      "Array.30     1    1    1    1    1    1    1    1    1    1 ...     1    1   \n",
      "Array.35     0    0    0    0    0    0    0    0    0    0 ...     1    1   \n",
      "Array.93     0    0    1    1    1    1    1    1    0    0 ...     1    1   \n",
      "Array.10     0    0    0    0    0    0    0    0    0    0 ...     1    1   \n",
      "Array.123    0    0    0    0    0    0    0    0    0    0 ...     1    1   \n",
      "Array.100    0    0    0    0    0    0    0    0    0    0 ...     1    1   \n",
      "Array.134   -1   -1   -1   -1   -1   -1   -1   -1   -1   -1 ...     1    1   \n",
      "Array.130    0    0    0    0    0    0    0    0    0    0 ...     1    1   \n",
      "\n",
      "          2826 2827 2828 2829 2830 2831 2832 2833  \n",
      "Array.129    2    2    0    1    1    1    1    1  \n",
      "Array.34     1    1    1    1    1    1    1    1  \n",
      "Array.67     1    1    1    1    1    1    1    1  \n",
      "Array.24     0    0    0    0    0    0    0    0  \n",
      "Array.22     1    1    1    1    1    1    1    1  \n",
      "Array.36     0    1    1    1    1    1    1    1  \n",
      "Array.49     1    1    1    1    1    1    1    1  \n",
      "Array.16     1    1    1    1    1    1    1    1  \n",
      "Array.146    1    1    1    1    1    1    1    1  \n",
      "Array.143    1    1    1    1    1    1    1    1  \n",
      "Array.65     1    1    1    1    2    2    2    2  \n",
      "Array.62     1    1    1    1    1    1    0    1  \n",
      "Array.4      1    1    1    1    1    1    1    1  \n",
      "Array.76     1    1    1    1    1    1    1    1  \n",
      "Array.118    1    1    1    1    1    1    1    1  \n",
      "Array.154    0    0    0    0    0    0    0    0  \n",
      "Array.48     1    1    0    1    1    1    1    1  \n",
      "Array.6      0    1    1    1    1    1    1    1  \n",
      "Array.39     0    1    1    1    1    1    1    1  \n",
      "Array.86     1    1    1    1    1    1    1    1  \n",
      "Array.112    2    2    2    2    2    2    2    2  \n",
      "Array.79     1    1    1    1    1    1    1    1  \n",
      "Array.124    1    1    1    1    1    2    2    2  \n",
      "Array.19     1    1    2    1    1    1    2    1  \n",
      "Array.27     0    1    1    1    1    1    1    1  \n",
      "Array.106    2    2    2    2    2    2    2    1  \n",
      "Array.110    2    2    2    2    2    2    2    2  \n",
      "Array.69     1    1    1    1    1    1    1    1  \n",
      "Array.73     1    1    1    1    1    1    1    1  \n",
      "Array.95     1    1    1    1    1    1    1    1  \n",
      "...        ...  ...  ...  ...  ...  ...  ...  ...  \n",
      "Array.75     1    1    1    1    1    1    1    1  \n",
      "Array.139    1    1    2    1    1    1    1    1  \n",
      "Array.2      1    1    1    1    1    1    1    1  \n",
      "Array.117    1    1    1    1    1    1    1    1  \n",
      "Array.60     1    1    1    1    1    1    1    1  \n",
      "Array.38     1    1    1    1    1    1    1    1  \n",
      "Array.72     1    1    1    1    1    1    1    1  \n",
      "Array.104    1    1    1    1    1    1    1    1  \n",
      "Array.137    1    1    1    1    1    1    1    1  \n",
      "Array.145    1    1    1    1    1    1    1    0  \n",
      "Array.31     2    2    2    2    2    2    2    2  \n",
      "Array.135    2    2    2    2    2    2    2    2  \n",
      "Array.111    1    1    1    1    1    1    1    1  \n",
      "Array.7      1    1    1    1    1    1    1    1  \n",
      "Array.21     2    2    2    2    2    2    2    2  \n",
      "Array.53     2    2    2    2    2    2    2    2  \n",
      "Array.59     0    0    0    0    0    0    0    0  \n",
      "Array.71     1    1    1    1    1    1    1    1  \n",
      "Array.47     1    2    2    2    2    2    2    2  \n",
      "Array.107    1    1    1    1    1    1    1    1  \n",
      "Array.64     1    1    1    1    2    2    2    2  \n",
      "Array.89     1    1    1    1    1    1    1    1  \n",
      "Array.30     1    1    1    1    1    1    1    1  \n",
      "Array.35     1    1    1    1    1    1    1    1  \n",
      "Array.93     1    1    1    1    1    1    1    1  \n",
      "Array.10     0    1    1    1    1    1    1    1  \n",
      "Array.123    1    1    1    1    1    1    1    1  \n",
      "Array.100    1    1    1    1    1    1    1    1  \n",
      "Array.134    1    1    1    1    1    1    1    1  \n",
      "Array.130    1    1    1    1    1    1    1    1  \n",
      "\n",
      "[100 rows x 2834 columns]\n"
     ]
    }
   ],
   "source": [
    "print(y_train)\n",
    "print(x_train)"
   ]
  },
  {
   "cell_type": "code",
   "execution_count": 26,
   "metadata": {},
   "outputs": [
    {
     "name": "stdout",
     "output_type": "stream",
     "text": [
      "(100, 1)\n",
      "(100, 2834)\n"
     ]
    }
   ],
   "source": [
    "print(y_train.shape)\n",
    "print(x_train.shape)\n"
   ]
  },
  {
   "cell_type": "markdown",
   "metadata": {},
   "source": [
    "# Feature Selection"
   ]
  },
  {
   "cell_type": "code",
   "execution_count": 75,
   "metadata": {
    "collapsed": true
   },
   "outputs": [],
   "source": [
    "#import libraries\n",
    "from sklearn.feature_selection import SelectFromModel\n",
    "from sklearn.feature_selection import SelectKBest\n",
    "from sklearn.feature_selection import chi2\n",
    "from sklearn.feature_selection import f_classif"
   ]
  },
  {
   "cell_type": "markdown",
   "metadata": {},
   "source": [
    "Apperently there are different models which can be used for feature selection\n",
    "SelectKBest = uses statistics to measure best k features\n",
    "SelectForModel = selects best feature for that a specific model(e.g. KNN, SVM). I would not think this is a good option since if we want to compare models we should use the same features."
   ]
  },
  {
   "cell_type": "markdown",
   "metadata": {},
   "source": [
    "### Univarite Feature selection"
   ]
  },
  {
   "cell_type": "markdown",
   "metadata": {},
   "source": [
    " This methode does feature selection using univariate statistics. See http://scikit-learn.org/stable/modules/feature_selection.html for more info.\n",
    "In this case I used f_classif, which makes the selector use ANOVA as stastics method. \n",
    "K is the number of features you want to select.\n",
    "The selector will now use ANOVA to select the best K features of the model.\n",
    "\n",
    "We probably should look in to how many features we would want to select...?or Try another method"
   ]
  },
  {
   "cell_type": "code",
   "execution_count": 94,
   "metadata": {},
   "outputs": [
    {
     "data": {
      "text/plain": [
       "(100, 2834)"
      ]
     },
     "execution_count": 94,
     "metadata": {},
     "output_type": "execute_result"
    }
   ],
   "source": [
    "x_train.shape"
   ]
  },
  {
   "cell_type": "code",
   "execution_count": 108,
   "metadata": {},
   "outputs": [],
   "source": [
    "# feature selection\n",
    "selector= SelectKBest(f_classif, k=100).fit(x_train,y_train.values.ravel())\n",
    "x_new = selector.transform(x_train)\n"
   ]
  },
  {
   "cell_type": "code",
   "execution_count": 109,
   "metadata": {},
   "outputs": [
    {
     "data": {
      "text/plain": [
       "(100, 100)"
      ]
     },
     "execution_count": 109,
     "metadata": {},
     "output_type": "execute_result"
    }
   ],
   "source": [
    "x_new.shape"
   ]
  },
  {
   "cell_type": "markdown",
   "metadata": {},
   "source": [
    "# Classification models"
   ]
  },
  {
   "cell_type": "markdown",
   "metadata": {},
   "source": [
    "Possible classification models for multiple classes:\n",
    "\n",
    "-Neural Networks (Deep Learning)\n",
    "\n",
    "-KNN\n",
    "\n",
    "-Decision Tree\n",
    "\n",
    "-SVM\n",
    "\n",
    "-Naieve Bayes"
   ]
  },
  {
   "cell_type": "markdown",
   "metadata": {},
   "source": [
    "## KNN (K-Nearest Neighbour)"
   ]
  },
  {
   "cell_type": "code",
   "execution_count": 122,
   "metadata": {
    "collapsed": true
   },
   "outputs": [],
   "source": [
    "#import libraries\n",
    "from sklearn import model_selection, metrics, grid_search\n",
    "from sklearn.model_selection import GridSearchCV\n",
    "from sklearn.model_selection import cross_val_score\n",
    "from sklearn.model_selection import cross_val_predict\n",
    "from sklearn.metrics import classification_report\n",
    "from sklearn import svm\n",
    "from sklearn.neighbors import KNeighborsClassifier"
   ]
  },
  {
   "cell_type": "code",
   "execution_count": 132,
   "metadata": {},
   "outputs": [],
   "source": [
    "# make knn model for new selected features\n"
   ]
  },
  {
   "cell_type": "markdown",
   "metadata": {},
   "source": [
    "### Select hyperparameter"
   ]
  },
  {
   "cell_type": "markdown",
   "metadata": {},
   "source": [
    "Using the GridsearchCV function you can do cross validation to select the 'best' hyperparameters for you model"
   ]
  },
  {
   "cell_type": "code",
   "execution_count": 128,
   "metadata": {
    "collapsed": true
   },
   "outputs": [],
   "source": [
    "# define the parameter range that should be searched\n",
    "k_range = list(range(1, 31))\n",
    "\n",
    "# create a parameter grid: map the parameter names to the values that should be searched\n",
    "param_grid = dict(n_neighbors=k_range)\n",
    "\n",
    "# instantiate the grid\n",
    "grid_search= GridSearchCV(knn, param_grid, cv=10, scoring='accuracy')"
   ]
  },
  {
   "cell_type": "code",
   "execution_count": 131,
   "metadata": {},
   "outputs": [
    {
     "data": {
      "text/plain": [
       "GridSearchCV(cv=10, error_score='raise',\n",
       "       estimator=KNeighborsClassifier(algorithm='auto', leaf_size=30, metric='minkowski',\n",
       "           metric_params=None, n_jobs=1, n_neighbors=5, p=2,\n",
       "           weights='uniform'),\n",
       "       fit_params=None, iid=True, n_jobs=1,\n",
       "       param_grid={'n_neighbors': [1, 2, 3, 4, 5, 6, 7, 8, 9, 10, 11, 12, 13, 14, 15, 16, 17, 18, 19, 20, 21, 22, 23, 24, 25, 26, 27, 28, 29, 30]},\n",
       "       pre_dispatch='2*n_jobs', refit=True, return_train_score='warn',\n",
       "       scoring='accuracy', verbose=0)"
      ]
     },
     "execution_count": 131,
     "metadata": {},
     "output_type": "execute_result"
    }
   ],
   "source": [
    "grid_search.fit(x_new, y_train.values.ravel())"
   ]
  },
  {
   "cell_type": "code",
   "execution_count": 120,
   "metadata": {
    "collapsed": true
   },
   "outputs": [],
   "source": []
  },
  {
   "cell_type": "code",
   "execution_count": 121,
   "metadata": {},
   "outputs": [
    {
     "name": "stdout",
     "output_type": "stream",
     "text": [
      "accuracy:  0.87\n"
     ]
    },
    {
     "ename": "ValueError",
     "evalue": "Target is multiclass but average='binary'. Please choose another average setting.",
     "output_type": "error",
     "traceback": [
      "\u001b[1;31m---------------------------------------------------------------------------\u001b[0m",
      "\u001b[1;31mValueError\u001b[0m                                Traceback (most recent call last)",
      "\u001b[1;32m<ipython-input-121-46f3c25bb38f>\u001b[0m in \u001b[0;36m<module>\u001b[1;34m()\u001b[0m\n\u001b[0;32m      1\u001b[0m \u001b[0mprint\u001b[0m\u001b[1;33m(\u001b[0m\u001b[1;34m'accuracy: '\u001b[0m\u001b[1;33m,\u001b[0m\u001b[0mmetrics\u001b[0m\u001b[1;33m.\u001b[0m\u001b[0maccuracy_score\u001b[0m\u001b[1;33m(\u001b[0m\u001b[0my_train\u001b[0m\u001b[1;33m,\u001b[0m \u001b[0my_predict\u001b[0m\u001b[1;33m)\u001b[0m\u001b[1;33m)\u001b[0m\u001b[1;33m\u001b[0m\u001b[0m\n\u001b[0;32m      2\u001b[0m \u001b[1;31m#print('recall: ',metrics.recall_score(y_train, y_predict))\u001b[0m\u001b[1;33m\u001b[0m\u001b[1;33m\u001b[0m\u001b[0m\n\u001b[1;32m----> 3\u001b[1;33m \u001b[0mprint\u001b[0m\u001b[1;33m(\u001b[0m\u001b[1;34m'precision: '\u001b[0m\u001b[1;33m,\u001b[0m\u001b[0mmetrics\u001b[0m\u001b[1;33m.\u001b[0m\u001b[0mprecision_score\u001b[0m\u001b[1;33m(\u001b[0m\u001b[0my_train\u001b[0m\u001b[1;33m,\u001b[0m\u001b[0my_predict\u001b[0m\u001b[1;33m)\u001b[0m\u001b[1;33m)\u001b[0m\u001b[1;33m\u001b[0m\u001b[0m\n\u001b[0m",
      "\u001b[1;32m~\\Anaconda3\\lib\\site-packages\\sklearn\\metrics\\classification.py\u001b[0m in \u001b[0;36mprecision_score\u001b[1;34m(y_true, y_pred, labels, pos_label, average, sample_weight)\u001b[0m\n\u001b[0;32m   1259\u001b[0m                                                  \u001b[0maverage\u001b[0m\u001b[1;33m=\u001b[0m\u001b[0maverage\u001b[0m\u001b[1;33m,\u001b[0m\u001b[1;33m\u001b[0m\u001b[0m\n\u001b[0;32m   1260\u001b[0m                                                  \u001b[0mwarn_for\u001b[0m\u001b[1;33m=\u001b[0m\u001b[1;33m(\u001b[0m\u001b[1;34m'precision'\u001b[0m\u001b[1;33m,\u001b[0m\u001b[1;33m)\u001b[0m\u001b[1;33m,\u001b[0m\u001b[1;33m\u001b[0m\u001b[0m\n\u001b[1;32m-> 1261\u001b[1;33m                                                  sample_weight=sample_weight)\n\u001b[0m\u001b[0;32m   1262\u001b[0m     \u001b[1;32mreturn\u001b[0m \u001b[0mp\u001b[0m\u001b[1;33m\u001b[0m\u001b[0m\n\u001b[0;32m   1263\u001b[0m \u001b[1;33m\u001b[0m\u001b[0m\n",
      "\u001b[1;32m~\\Anaconda3\\lib\\site-packages\\sklearn\\metrics\\classification.py\u001b[0m in \u001b[0;36mprecision_recall_fscore_support\u001b[1;34m(y_true, y_pred, beta, labels, pos_label, average, warn_for, sample_weight)\u001b[0m\n\u001b[0;32m   1038\u001b[0m         \u001b[1;32melse\u001b[0m\u001b[1;33m:\u001b[0m\u001b[1;33m\u001b[0m\u001b[0m\n\u001b[0;32m   1039\u001b[0m             raise ValueError(\"Target is %s but average='binary'. Please \"\n\u001b[1;32m-> 1040\u001b[1;33m                              \"choose another average setting.\" % y_type)\n\u001b[0m\u001b[0;32m   1041\u001b[0m     \u001b[1;32melif\u001b[0m \u001b[0mpos_label\u001b[0m \u001b[1;32mnot\u001b[0m \u001b[1;32min\u001b[0m \u001b[1;33m(\u001b[0m\u001b[1;32mNone\u001b[0m\u001b[1;33m,\u001b[0m \u001b[1;36m1\u001b[0m\u001b[1;33m)\u001b[0m\u001b[1;33m:\u001b[0m\u001b[1;33m\u001b[0m\u001b[0m\n\u001b[0;32m   1042\u001b[0m         warnings.warn(\"Note that pos_label (set to %r) is ignored when \"\n",
      "\u001b[1;31mValueError\u001b[0m: Target is multiclass but average='binary'. Please choose another average setting."
     ]
    }
   ],
   "source": [
    "print('accuracy: ',metrics.accuracy_score(y_train, y_predict))\n",
    "#print('recall: ',metrics.recall_score(y_train, y_predict))\n",
    "print('precision: ',metrics.precision_score(y_train,y_predict))"
   ]
  }
 ],
 "metadata": {
  "kernelspec": {
   "display_name": "Python 3",
   "language": "python",
   "name": "python3"
  },
  "language_info": {
   "codemirror_mode": {
    "name": "ipython",
    "version": 3
   },
   "file_extension": ".py",
   "mimetype": "text/x-python",
   "name": "python",
   "nbconvert_exporter": "python",
   "pygments_lexer": "ipython3",
   "version": "3.6.3"
  }
 },
 "nbformat": 4,
 "nbformat_minor": 2
}
